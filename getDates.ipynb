{
 "cells": [
  {
   "cell_type": "code",
   "execution_count": 72,
   "metadata": {},
   "outputs": [],
   "source": [
    "import time\n",
    "from datetime import datetime"
   ]
  },
  {
   "cell_type": "code",
   "execution_count": 73,
   "metadata": {},
   "outputs": [],
   "source": [
    "#gets today's time into UT\n",
    "myTime= datetime.utcnow()"
   ]
  },
  {
   "cell_type": "code",
   "execution_count": 81,
   "metadata": {},
   "outputs": [
    {
     "name": "stdout",
     "output_type": "stream",
     "text": [
      "02 13 22 03,24,46\n"
     ]
    }
   ],
   "source": [
    "#extracts dates and make them string\n",
    "year = myTime.strftime(\"%Y\")\n",
    "month = myTime.strftime(\"%m\")\n",
    "day = myTime.strftime(\"%d\")\n",
    "hour = myTime.strftime(\"%H\")\n",
    "minute = myTime.strftime(\"%M\")\n",
    "second = myTime.strftime(\"%S\")\n",
    "# outputs initial time\n",
    "initialUtcTime = (month + \" \" + day + \" \" + year[2:] + \" \" + hour + \",\"+ minute + \",\" + second)\n",
    "print(initialUtcTime)"
   ]
  },
  {
   "cell_type": "code",
   "execution_count": 82,
   "metadata": {
    "scrolled": true
   },
   "outputs": [
    {
     "name": "stdout",
     "output_type": "stream",
     "text": [
      "02 13 22 03,24,46\n"
     ]
    }
   ],
   "source": [
    "#outputs final time \n",
    "newDay = int(day) + 1\n",
    "finalUtcTime = (month + \" \" + str (newDay) + \" \" + year[2:] + \" \" + hour + \",\"+ minute + \",\" + second)\n",
    "print(initialUtcTime)"
   ]
  },
  {
   "cell_type": "code",
   "execution_count": null,
   "metadata": {},
   "outputs": [],
   "source": []
  }
 ],
 "metadata": {
  "kernelspec": {
   "display_name": "Python 3",
   "language": "python",
   "name": "python3"
  },
  "language_info": {
   "codemirror_mode": {
    "name": "ipython",
    "version": 3
   },
   "file_extension": ".py",
   "mimetype": "text/x-python",
   "name": "python",
   "nbconvert_exporter": "python",
   "pygments_lexer": "ipython3",
   "version": "3.7.4"
  }
 },
 "nbformat": 4,
 "nbformat_minor": 5
}
